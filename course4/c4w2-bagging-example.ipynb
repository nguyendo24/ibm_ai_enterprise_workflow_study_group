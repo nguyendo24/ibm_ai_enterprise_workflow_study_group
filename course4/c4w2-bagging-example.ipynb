{
 "cells": [
  {
   "cell_type": "code",
   "execution_count": 15,
   "metadata": {},
   "outputs": [
    {
     "name": "stdout",
     "output_type": "stream",
     "text": [
      "Bootstrap CI: (50.2557, 48.6388)\n"
     ]
    }
   ],
   "source": [
    "import numpy as np\n",
    "x = np.random.normal(50.0,10.0,100)\n",
    "nsamples = 500\n",
    "bs_samples = np.random.choice(x, (nsamples, x.size), replace=True)\n",
    "bs_distn = np.mean(bs_samples, axis=1)\n",
    "print(\"Bootstrap CI: (%.4f, %.4f)\"%(bs_distn[int(0.025*nsamples)], bs_distn[int(0.975*nsamples)]))"
   ]
  },
  {
   "cell_type": "code",
   "execution_count": 14,
   "metadata": {},
   "outputs": [
    {
     "name": "stdout",
     "output_type": "stream",
     "text": [
      "KNN f1_score 0.933\n",
      "DT  f1_score 0.967\n",
      "SVM f1_score 0.967\n"
     ]
    }
   ],
   "source": [
    "\"\"\"\n",
    "simple bagging example\n",
    "\"\"\"\n",
    "\n",
    "import numpy as np\n",
    "from sklearn.ensemble import BaggingClassifier\n",
    "from sklearn.neighbors import KNeighborsClassifier\n",
    "from sklearn.datasets import load_iris\n",
    "from sklearn.preprocessing import StandardScaler\n",
    "from sklearn.metrics import classification_report, f1_score\n",
    "from sklearn.model_selection import train_test_split\n",
    "from sklearn.tree import DecisionTreeClassifier\n",
    "from sklearn.pipeline import Pipeline\n",
    "from sklearn.svm import SVC\n",
    "\n",
    "np.random.seed(0)\n",
    "iris = load_iris()\n",
    "X, y = iris.data, iris.target\n",
    "indices = np.arange(y.shape[0])\n",
    "np.random.shuffle(indices)\n",
    "\n",
    "X_train, X_test, y_train, y_test = train_test_split(X, y, test_size=0.2, stratify=y)\n",
    "\n",
    "bm_name = ['KNN','DT ','SVM']\n",
    "for bm,basemodel in enumerate([KNeighborsClassifier(),DecisionTreeClassifier(),SVC(kernel='rbf')]):\n",
    "    clf = BaggingClassifier(basemodel,n_estimators=10,\n",
    "                            max_samples=0.5, max_features=0.5)\n",
    "\n",
    "    pipe  = Pipeline(steps=[('scaler', StandardScaler()),\n",
    "                            ('bagged_clf', clf)])\n",
    "    pipe.fit(X_train, y_train)\n",
    "    y_pred = pipe.predict(X_test)\n",
    "    print(bm_name[bm],\"f1_score\",round(f1_score(y_test, y_pred,average='weighted'),3))"
   ]
  },
  {
   "cell_type": "code",
   "execution_count": null,
   "metadata": {},
   "outputs": [],
   "source": []
  }
 ],
 "metadata": {
  "kernelspec": {
   "display_name": "Python 3",
   "language": "python",
   "name": "python3"
  },
  "language_info": {
   "codemirror_mode": {
    "name": "ipython",
    "version": 3
   },
   "file_extension": ".py",
   "mimetype": "text/x-python",
   "name": "python",
   "nbconvert_exporter": "python",
   "pygments_lexer": "ipython3",
   "version": "3.7.7"
  }
 },
 "nbformat": 4,
 "nbformat_minor": 4
}
