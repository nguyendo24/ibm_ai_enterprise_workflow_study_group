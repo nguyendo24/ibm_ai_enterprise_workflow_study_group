{
 "cells": [
  {
   "cell_type": "markdown",
   "metadata": {},
   "source": [
    "# Regression Metrics Example"
   ]
  },
  {
   "cell_type": "code",
   "execution_count": 6,
   "metadata": {},
   "outputs": [],
   "source": [
    "# from __future__ import division\n",
    "import os,sys\n",
    "\n",
    "import matplotlib.pyplot as plt\n",
    "import numpy as np\n",
    "from sklearn.metrics import mean_squared_error\n",
    "from sklearn.linear_model import LinearRegression"
   ]
  },
  {
   "cell_type": "markdown",
   "metadata": {},
   "source": [
    "This function returns *n* samples uniformly distributed in (-1,1) according to the line b0 + b1\\*x. Normal noise is added to the dependent variable."
   ]
  },
  {
   "cell_type": "code",
   "execution_count": 10,
   "metadata": {},
   "outputs": [],
   "source": [
    "def get_simple_regression_samples(n,b0=-0.3,b1=0.5,error=0.2,seed=None):\n",
    "    if seed:\n",
    "        np.random.seed(seed)\n",
    "\n",
    "    trueX =  np.random.uniform(-1,1,n)\n",
    "    trueT = b0 + (b1*trueX)\n",
    "    return np.array([trueX]).T, trueT + np.random.normal(0,error,n)"
   ]
  },
  {
   "cell_type": "markdown",
   "metadata": {},
   "source": [
    "Here we get n samples using the fn above, the use LinearRegression(), i.e. Least Squares to do a produce an estimator."
   ]
  },
  {
   "cell_type": "code",
   "execution_count": 8,
   "metadata": {},
   "outputs": [
    {
     "name": "stdout",
     "output_type": "stream",
     "text": [
      "0.176\n",
      "0.176\n",
      "0.176\n"
     ]
    },
    {
     "data": {
      "image/png": "[encoded data removed]",
      "text/plain": [
       "<Figure size 576x576 with 1 Axes>"
      ]
     },
     "metadata": {
      "needs_background": "light"
     },
     "output_type": "display_data"
    }
   ],
   "source": [
    "from sklearn.metrics import mean_squared_error\n",
    "from sklearn.linear_model import LinearRegression\n",
    "\n",
    "seed = 42\n",
    "n = 20\n",
    "b0_true = -0.3\n",
    "b1_true = 0.5\n",
    "X,y_true = get_simple_regression_samples(n,b0=b0_true,b1=b1_true,seed=seed)\n",
    "\n",
    "reg = LinearRegression().fit(X, y_true)\n",
    "reg.score(X, y_true)\n",
    "\n",
    "## predict\n",
    "y_pred = reg.predict(X)\n",
    "\n",
    "print(round(np.linalg.norm(y_pred - y_true) / np.sqrt(n),3))\n",
    "print(round(np.sqrt(mean_squared_error(y_pred,y_true)),3))\n",
    "print(round(np.std(y_pred-y_true),3))\n",
    "\n",
    "## plot the model\n",
    "fig = plt.figure(figsize=(8,8))\n",
    "ax = fig.add_subplot(111)\n",
    "ax.plot(X[:,0],y_true,'ko')\n",
    "\n",
    "ax.plot(X[:,0],y_pred,color='lightblue',linewidth=4,label='least squares')\n",
    "ax.plot(X[:,0], b0_true + X[:,0]*b1_true,linewidth=4,color='darkorange',label='truth')\n",
    "ax.legend()\n",
    "plt.show()"
   ]
  },
  {
   "cell_type": "code",
   "execution_count": 14,
   "metadata": {},
   "outputs": [
    {
     "ename": "FileNotFoundError",
     "evalue": "[Errno 2] No such file or directory: 'foo/bar/baz'",
     "output_type": "error",
     "traceback": [
      "\u001b[0;31m---------------------------------------------------------------------------\u001b[0m",
      "\u001b[0;31mFileNotFoundError\u001b[0m                         Traceback (most recent call last)",
      "\u001b[0;32m<ipython-input-14-197e15b0528f>\u001b[0m in \u001b[0;36m<module>\u001b[0;34m\u001b[0m\n\u001b[0;32m----> 1\u001b[0;31m \u001b[0mos\u001b[0m\u001b[0;34m.\u001b[0m\u001b[0mmkdir\u001b[0m\u001b[0;34m(\u001b[0m\u001b[0;34m'foo/bar/baz'\u001b[0m\u001b[0;34m)\u001b[0m\u001b[0;34m\u001b[0m\u001b[0m\n\u001b[0m",
      "\u001b[0;31mFileNotFoundError\u001b[0m: [Errno 2] No such file or directory: 'foo/bar/baz'"
     ]
    }
   ],
   "source": [
    "os.mkdir('foo/bar/baz')"
   ]
  },
  {
   "cell_type": "code",
   "execution_count": null,
   "metadata": {},
   "outputs": [],
   "source": []
  }
 ],
 "metadata": {
  "kernelspec": {
   "display_name": "Python 3",
   "language": "python",
   "name": "python3"
  },
  "language_info": {
   "codemirror_mode": {
    "name": "ipython",
    "version": 3
   },
   "file_extension": ".py",
   "mimetype": "text/x-python",
   "name": "python",
   "nbconvert_exporter": "python",
   "pygments_lexer": "ipython3",
   "version": "3.6.6"
  }
 },
 "nbformat": 4,
 "nbformat_minor": 4
}
