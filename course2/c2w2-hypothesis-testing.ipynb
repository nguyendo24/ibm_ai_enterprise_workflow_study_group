{
 "cells": [
  {
   "cell_type": "markdown",
   "metadata": {},
   "source": [
    "# Two-sample independent t-test\n",
    "\n",
    "In this example we are interested in comparing the amount of time elapsed between a client request and stream availability for the company AAVAIL’s streaming servers. Specifically we want to compare our locally hosted servers to a cloud service in terms of speed. The data are arrival times (in seconds) for a stream, meaning the time it takes from submission to receive a link with the modified version of the stream.\n",
    "\n",
    "Remember to formalize your hypothesis.\n",
    "\n",
    "1. Pose your **question** - Is it faster, on average, to process streams for viewing on a cloud service compared to our locally hosted servers?\n",
    "1. Find the relevant **population** - The population consists of all possible streams\n",
    "1. Specify a **null hypothesis** - There is no difference, on average, between local and hosted services for stream processing times location after I submit my ride request.\n",
    "1. Select the test and the significance level, two-sample independent t-test with **α=0.05**\n"
   ]
  },
  {
   "cell_type": "markdown",
   "metadata": {},
   "source": [
    "## Imports and Matplotlib settings"
   ]
  },
  {
   "cell_type": "code",
   "execution_count": 6,
   "metadata": {},
   "outputs": [],
   "source": [
    "import re\n",
    "import numpy as np\n",
    "import pandas as pd\n",
    "from IPython.display import Image\n",
    "import matplotlib.pyplot as plt\n",
    "from scipy import stats\n",
    "\n",
    "plt.style.use('seaborn')\n",
    "%matplotlib inline\n",
    "\n",
    "SMALL_SIZE = 12\n",
    "MEDIUM_SIZE = 14\n",
    "LARGE_SIZE = 16\n",
    "\n",
    "plt.rc('font', size=SMALL_SIZE)          # controls default text sizes\n",
    "plt.rc('axes', titlesize=SMALL_SIZE)     # fontsize of the axes title\n",
    "plt.rc('axes', labelsize=MEDIUM_SIZE)    # fontsize of the x and y labels\n",
    "plt.rc('xtick', labelsize=SMALL_SIZE)    # fontsize of the tick labels\n",
    "plt.rc('ytick', labelsize=SMALL_SIZE)    # fontsize of the tick labels\n",
    "plt.rc('legend', fontsize=SMALL_SIZE)    # legend fontsize\n",
    "plt.rc('figure', titlesize=LARGE_SIZE)   # fontsize of the figure title"
   ]
  },
  {
   "cell_type": "markdown",
   "metadata": {},
   "source": [
    "This is the data we collected"
   ]
  },
  {
   "cell_type": "code",
   "execution_count": 2,
   "metadata": {},
   "outputs": [],
   "source": [
    "local_arrivals = np.array([3.99, 4.15, 6.88, 4.53, 5.65, 6.75, 7.13, 2.79, 6.20,\n",
    "                           3.72, 7.28, 5.23, 4.72, 1.04, 4.25, 4.71, 2.16, 3.46,\n",
    "                           3.41, 7.98, 0.75, 3.64, 6.25, 6.86, 4.71])\n",
    "hosted_arrivals = np.array([5.82, 4.83, 7.19, 6.98, 5.82, 5.25, 5.71, 5.59, 7.93,\n",
    "                            7.09, 6.37, 6.31, 6.28, 3.12, 6.02, 4.84, 4.16, 6.72,\n",
    "                            7.44, 6.28, 7.37, 4.27, 6.15, 4.88, 7.78])"
   ]
  },
  {
   "cell_type": "markdown",
   "metadata": {},
   "source": [
    "Now test for significance using t-test:"
   ]
  },
  {
   "cell_type": "code",
   "execution_count": 5,
   "metadata": {},
   "outputs": [
    {
     "name": "stdout",
     "output_type": "stream",
     "text": [
      "p-value: 0.0069\n"
     ]
    }
   ],
   "source": [
    "test_statistic, pvalue = stats.ttest_ind(local_arrivals,hosted_arrivals)\n",
    "print(\"p-value: {}\".format(round(pvalue,5)))"
   ]
  },
  {
   "cell_type": "code",
   "execution_count": 12,
   "metadata": {},
   "outputs": [
    {
     "data": {
      "text/plain": [
       "[]"
      ]
     },
     "execution_count": 12,
     "metadata": {},
     "output_type": "execute_result"
    },
    {
     "data": {
      "image/png": "[encoded data removed]",
      "text/plain": [
       "<Figure size 1600x640 with 1 Axes>"
      ]
     },
     "metadata": {},
     "output_type": "display_data"
    }
   ],
   "source": [
    "BINS = 10\n",
    "fig = plt.figure(figsize=(10,4), dpi=160, facecolor='white')\n",
    "ax = fig.add_subplot(111)\n",
    "ax.hist(local_arrivals, bins=BINS, facecolor='royalblue', alpha=0.7, density=1, histtype='stepfilled')\n",
    "ax.hist(hosted_arrivals, bins=BINS, facecolor='orange', alpha=0.7, density=1, histtype='stepfilled')\n",
    "ax.plot()"
   ]
  },
  {
   "cell_type": "markdown",
   "metadata": {},
   "source": [
    "Can't say variance is the same (doesn't look like it), so use Welch's (unequal variances) t-test:"
   ]
  },
  {
   "cell_type": "code",
   "execution_count": 13,
   "metadata": {},
   "outputs": [
    {
     "name": "stdout",
     "output_type": "stream",
     "text": [
      "p-value: 0.00735\n"
     ]
    }
   ],
   "source": [
    "test_statistic, pvalue = stats.ttest_ind(local_arrivals, hosted_arrivals, equal_var = False)\n",
    "print(\"p-value: {}\".format(round(pvalue,5)))"
   ]
  },
  {
   "cell_type": "markdown",
   "metadata": {},
   "source": [
    "# Three-sample testing - ANOVA"
   ]
  },
  {
   "cell_type": "markdown",
   "metadata": {},
   "source": [
    "Suppose we have a third set of data we want to include in analysis"
   ]
  },
  {
   "cell_type": "code",
   "execution_count": 21,
   "metadata": {},
   "outputs": [],
   "source": [
    "local_arrivals = np.array([3.99, 4.15, 7.88, 4.53, 5.65, 6.75, 7.13, 3.79, 6.20,\n",
    "                           3.72, 7.28, 5.23, 4.72, 2.04, 4.25, 4.71, 3.16, 3.46,\n",
    "                           3.41, 7.98, 0.75, 3.64, 6.25, 6.86, 4.71])\n",
    "cloud1_arrivals = np.array([5.82, 4.83, 7.19, 6.98, 5.82, 5.25, 5.71, 5.59, 6.93,\n",
    "                            7.09, 6.37, 6.31, 6.28, 3.12, 6.02, 4.84, 4.16, 6.72,\n",
    "                            7.44, 6.28, 6.37, 4.27, 6.15, 4.88, 6.78])\n",
    "cloud2_arrivals = np.array([5.73, 4.95, 6.96, 6.12, 5.85, 6.74, 5.19, 7.24,\n",
    "                            6.08, 6.11, 6.11, 7.68, 4.66, 6.12, 5.04, 4.19, 6.46,\n",
    "                            7.02, 7.28, 6.19, 4.67, 7.15, 4.58, 6.01])"
   ]
  },
  {
   "cell_type": "markdown",
   "metadata": {},
   "source": [
    "Compute some summary statistics:"
   ]
  },
  {
   "cell_type": "code",
   "execution_count": 22,
   "metadata": {},
   "outputs": [
    {
     "name": "stdout",
     "output_type": "stream",
     "text": [
      "The global mean arrival time is: 5.59\n",
      "Mean arrival time for local is 4.89\n",
      "Mean arrival time for cloud1 is 5.89\n",
      "Mean arrival time for cloud2 is 6.01\n"
     ]
    }
   ],
   "source": [
    "all_arrivals = [local_arrivals, cloud1_arrivals, cloud2_arrivals]\n",
    "global_mean = np.hstack(all_arrivals).mean()\n",
    "\n",
    "print(\"The global mean arrival time is: %s\"%np.round(global_mean, decimals=2))\n",
    "\n",
    "for name, arrivals in zip(['local', 'cloud1', 'cloud2'], all_arrivals):\n",
    "    print(\"Mean arrival time for {} is {}\".format(name, np.round(arrivals.mean(), decimals=2)))\n",
    "    "
   ]
  },
  {
   "cell_type": "markdown",
   "metadata": {},
   "source": [
    "When comparing across three or more groups (in this case types of promotions) an appropriate test is a one-way ANOVA, which compares between group variation and within group variation. The relevant probability distribution if the F distribution, and that is the name used in the relevant method in Scipy:"
   ]
  },
  {
   "cell_type": "code",
   "execution_count": 23,
   "metadata": {},
   "outputs": [
    {
     "name": "stdout",
     "output_type": "stream",
     "text": [
      "0.0082\n"
     ]
    }
   ],
   "source": [
    "test_statistic, pvalue = stats.f_oneway(*all_arrivals)\n",
    "print(np.round(pvalue,decimals=4))\n"
   ]
  },
  {
   "cell_type": "markdown",
   "metadata": {},
   "source": [
    "# Correcting for multiple tests"
   ]
  },
  {
   "cell_type": "code",
   "execution_count": 25,
   "metadata": {},
   "outputs": [
    {
     "name": "stdout",
     "output_type": "stream",
     "text": [
      "0.038 0.461 0.051\n",
      "0.042 0.51 0.051\n",
      "0.032 0.382 0.051\n",
      "0.008 0.1 0.038\n",
      "0.052 0.623 0.057\n",
      "0.057 0.685 0.057\n",
      "0.042 0.505 0.051\n",
      "0.013 0.152 0.038\n",
      "0.007 0.088 0.038\n",
      "0.024 0.292 0.051\n",
      "0.039 0.471 0.051\n",
      "0.01 0.118 0.038\n"
     ]
    }
   ],
   "source": [
    "import numpy as np\n",
    "from statsmodels.stats.multitest import multipletests\n",
    "\n",
    "pvals = np.random.uniform(0.001,0.06,12)\n",
    "_results = multipletests(pvals, alpha=0.05, method='bonferroni', is_sorted=False, returnsorted=False)\n",
    "rejected_bonferroni,adjusted_bonferroni = _results[0],_results[1]\n",
    "\n",
    "_results = multipletests(pvals, alpha=0.05, method='fdr_bh', is_sorted=False, returnsorted=False)\n",
    "rejected_bh,adjusted_bh = _results[0],_results[1]\n",
    "\n",
    "for p,pval in enumerate(pvals):\n",
    "     print(round(pval,3),round(adjusted_bonferroni[p],3),round(adjusted_bh[p],3))\n",
    "     "
   ]
  },
  {
   "cell_type": "code",
   "execution_count": 27,
   "metadata": {},
   "outputs": [
    {
     "data": {
      "text/plain": [
       "array([0.0384287 , 0.04249133, 0.03182133, 0.00835309, 0.05194435,\n",
       "       0.05704761, 0.0420783 , 0.01267608, 0.00734372, 0.02432679,\n",
       "       0.03926011, 0.00981133])"
      ]
     },
     "execution_count": 27,
     "metadata": {},
     "output_type": "execute_result"
    }
   ],
   "source": [
    "pvals"
   ]
  },
  {
   "cell_type": "code",
   "execution_count": 26,
   "metadata": {},
   "outputs": [
    {
     "data": {
      "text/plain": [
       "[]"
      ]
     },
     "execution_count": 26,
     "metadata": {},
     "output_type": "execute_result"
    },
    {
     "data": {
      "image/png": "[encoded data removed]",
      "text/plain": [
       "<Figure size 1600x640 with 1 Axes>"
      ]
     },
     "metadata": {},
     "output_type": "display_data"
    }
   ],
   "source": [
    "fig = plt.figure(figsize=(10,4), dpi=160, facecolor='white')\n",
    "ax = fig.add_subplot(111)\n",
    "ax.hist(pvals, bins=BINS, facecolor='royalblue', alpha=0.7, density=1, histtype='stepfilled')\n",
    "ax.plot()"
   ]
  },
  {
   "cell_type": "code",
   "execution_count": null,
   "metadata": {},
   "outputs": [],
   "source": []
  }
 ],
 "metadata": {
  "kernelspec": {
   "display_name": "Python 3",
   "language": "python",
   "name": "python3"
  },
  "language_info": {
   "codemirror_mode": {
    "name": "ipython",
    "version": 3
   },
   "file_extension": ".py",
   "mimetype": "text/x-python",
   "name": "python",
   "nbconvert_exporter": "python",
   "pygments_lexer": "ipython3",
   "version": "3.6.6"
  }
 },
 "nbformat": 4,
 "nbformat_minor": 4
}
