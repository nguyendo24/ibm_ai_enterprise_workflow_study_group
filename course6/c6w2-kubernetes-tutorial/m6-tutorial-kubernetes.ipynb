{
 "cells": [
  {
   "cell_type": "markdown",
   "metadata": {},
   "source": [
    "# TUTORIAL - Kubernetes\n",
    "\n",
    "## Before you begin ensure that you have installed kubectl and Minikube\n",
    "\n",
    "* [Install and setup kubectl](https://kubernetes.io/docs/tasks/tools/install-kubectl)\n",
    "* [Install Minikube](https://kubernetes.io/docs/tasks/tools/install-minikube/)"
   ]
  },
  {
   "cell_type": "markdown",
   "metadata": {},
   "source": [
    "## PART 1: Using Minikube to Create a Cluster\n",
    "\n",
    "If everything is setup correctly you can simply type the following to create a cluster.\n",
    "\n",
    "```bash\n",
    "~$ minikube start --vm-driver=kvm2\n",
    "```"
   ]
  },
  {
   "cell_type": "markdown",
   "metadata": {},
   "source": [
    "### It will take a few minutes to create the cluster.\n",
    "\n",
    "When it is done, you should see: \n",
    "\n",
    "`🏄  Done! kubectl is now configured to use \"minikube\"`\n",
    "\n",
    "### You can verify the status of the cluster with: \n",
    "\n",
    "```bash\n",
    "~$ minikube status\n",
    "```\n",
    "\n",
    "You should see that the host, kubelet and apiserver are running"
   ]
  },
  {
   "cell_type": "markdown",
   "metadata": {},
   "source": [
    "### For an interactive view of your cluster in your web browser try:\n",
    "\n",
    "```bash\n",
    "~$ minikube dashboard &\n",
    "```"
   ]
  },
  {
   "cell_type": "markdown",
   "metadata": {},
   "source": [
    "### To interact with your cluster, you will use kubectl. \n",
    "First check that it is properly installed:\n",
    "```bash\n",
    "~$ kubectl version\n",
    "```\n",
    "You should see version information for both the client and the server\n",
    "\n",
    "To see basic information about the cluster use:\n",
    "\n",
    "```bash\n",
    "~$ kubectl cluster-info\n",
    "```\n",
    "\n",
    "And to see the nodes, use:\n",
    "\n",
    "```bash\n",
    "~$ kubectl get nodes\n",
    "```\n",
    "\n",
    "You should see your minikube cluster with status = 'Ready'"
   ]
  },
  {
   "cell_type": "markdown",
   "metadata": {},
   "source": [
    "## Creating a Kubernetes Deployment\n",
    "\n",
    "We have created and verified a cluster of nodes (in this case, only one node on a local minikube cluster). This node is a worker, but so far, it doesn't have anything to do.\n",
    "\n",
    "To run our application on it, we need to give it a Kubernetes Deployment. The Deployment instructs kubernetes on how to create and manage instances of the application. Instead of loading the application onto the node directly, we give it to the kubernetes *master*. The master then schedules the deployment onto the available nodes and manages them on an on-going basis. The master monitors the nodes; if a node goes down, the master will replace the node with another node in the cluster.\n",
    "\n"
   ]
  },
  {
   "cell_type": "markdown",
   "metadata": {},
   "source": [
    "Review the available docker images on your machine:\n",
    "```bash\n",
    "~$ docker images\n",
    "```\n",
    "\n",
    "You should see the example-ml-app image we created earlier in this course.\n",
    "\n",
    "We will create a deployment using a simple \"Hello World\" example from google container registry\n",
    "\n",
    "```bash\n",
    "~$ kubectl create deployment hello-node \\\n",
    "--image=gcr.io/hello-minikube-zero-install/hello-node\n",
    "```\n",
    "\n",
    "This should take about two minutes to set up. When ready, view this deployment with:\n",
    "\n",
    "```bash\n",
    "~$ kubectl get deployments\n",
    "```\n",
    "\n",
    "You can see additional information about the status of this deployment using:\n",
    "\n",
    "```bash\n",
    "~$ kubectl describe deployment hello-node\n",
    "```"
   ]
  },
  {
   "cell_type": "markdown",
   "metadata": {},
   "source": [
    "## Expose a port for external communication\n",
    "In order to communicte with the world outside of the cluster, we need to expose a port with the following command:\n",
    "\n",
    "```bash\n",
    "~$ kubectl expose deployment hello-node --type=LoadBalancer --port=8080\n",
    "```\n",
    "\n",
    "We then need to activate this service on minikube using\n",
    "```bash\n",
    "~$ minikube service hello-node\n",
    "```\n",
    "\n",
    "When you activate the hello-node service, you should see the URL of the cluster server in the terminal window and it will open a web browser pointing to the cluster which is serving the \"Hello World!\" web page.\n",
    "\n",
    "Congratulations! You have sucessfully deployed a service to a kubernetes cluster!"
   ]
  },
  {
   "cell_type": "markdown",
   "metadata": {},
   "source": [
    "## Next Steps\n",
    "\n",
    "There's a great deal more that kubernetes can do.... much too much to cover here.\n",
    "\n",
    "IBM provides excellent, in-depth introductions and tutorials:\n",
    "\n",
    "[IBM: What is Kubernetes?](https://www.ibm.com/cloud/learn/kubernetes)\n",
    "\n",
    "[IBM: Kubernetes 101](https://www.ibm.com/cloud/garage/content/course/kubernetes-101)"
   ]
  },
  {
   "cell_type": "code",
   "execution_count": null,
   "metadata": {},
   "outputs": [],
   "source": []
  }
 ],
 "metadata": {
  "kernelspec": {
   "display_name": "Python 3",
   "language": "python",
   "name": "python3"
  },
  "language_info": {
   "codemirror_mode": {
    "name": "ipython",
    "version": 3
   },
   "file_extension": ".py",
   "mimetype": "text/x-python",
   "name": "python",
   "nbconvert_exporter": "python",
   "pygments_lexer": "ipython3",
   "version": "3.6.10"
  }
 },
 "nbformat": 4,
 "nbformat_minor": 4
}
