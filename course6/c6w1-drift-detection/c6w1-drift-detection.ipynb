{
 "cells": [
  {
   "cell_type": "markdown",
   "metadata": {
    "slideshow": {
     "slide_type": "-"
    }
   },
   "source": [
    "# Drift detection\n",
    "<br></br>\n",
    "<center>\n",
    "<img src=\"../images/ibm-logo-bw.png\" alt=\"ibm-logo\" align=\"center\" style=\"width: 200px;\"/>\n",
    "</center>"
   ]
  },
  {
   "cell_type": "code",
   "execution_count": 1,
   "metadata": {
    "slideshow": {
     "slide_type": "skip"
    }
   },
   "outputs": [],
   "source": [
    "import re\n",
    "import os\n",
    "import sys\n",
    "import time\n",
    "import csv\n",
    "import joblib\n",
    "import uuid\n",
    "from collections import Counter,defaultdict\n",
    "import numpy as np\n",
    "import pandas as pd\n",
    "from termcolor import cprint\n",
    "import matplotlib.pyplot as plt\n",
    "\n",
    "from datetime import date\n",
    "import numpy as np\n",
    "from sklearn import svm\n",
    "from sklearn import datasets\n",
    "from sklearn.model_selection import train_test_split\n",
    "from sklearn.metrics import classification_report, f1_score\n",
    "\n",
    "%matplotlib inline\n",
    "\n",
    "MODEL_VERSION = \"0.1\"\n",
    "SMALL_SIZE = 10\n",
    "MEDIUM_SIZE = 11\n",
    "LARGE_SIZE = 12\n",
    "\n",
    "plt.rc('font', size=SMALL_SIZE)          # controls default text sizes\n",
    "plt.rc('axes', titlesize=SMALL_SIZE)     # fontsize of the axes title\n",
    "plt.rc('axes', labelsize=MEDIUM_SIZE)    # fontsize of the x and y labels\n",
    "plt.rc('xtick', labelsize=SMALL_SIZE)    # fontsize of the tick labels\n",
    "plt.rc('ytick', labelsize=SMALL_SIZE)    # fontsize of the tick labels\n",
    "plt.rc('legend', fontsize=SMALL_SIZE)    # legend fontsize\n",
    "plt.rc('figure', titlesize=LARGE_SIZE)   # fontsize of the figure title\n",
    "\n",
    "def slide_print(text, color='white'):\n",
    "    cprint(text, color, 'on_grey')"
   ]
  },
  {
   "cell_type": "markdown",
   "metadata": {
    "slideshow": {
     "slide_type": "notes"
    }
   },
   "source": [
    "There are many methods that can be used to detect performance drift.  We have already learned about novelty detection \n",
    "and outlier detection algorithms so we will demonstrate drift detection using these methods.  We will also include a test using a distance metric to help detect distributional changes."
   ]
  },
  {
   "cell_type": "markdown",
   "metadata": {
    "slideshow": {
     "slide_type": "slide"
    }
   },
   "source": [
    "<center>\n",
    "<table class=\"chTable\" style=\"width:45%\">\n",
    "  <tr>\n",
    "      <td>Outlier detection</td>\n",
    "      <td>Outliers are defined from the training data</td>\n",
    "  </tr>\n",
    "  <tr>\n",
    "      <td><br>Novelty detection</br></td>\n",
    "      <td>Process assumes that the training data does not contain outliers</td>\n",
    "  </tr>\n",
    "</table>\n",
    "</center>\n",
    "\n",
    "Main applications:\n",
    "\n",
    "* Supervised learning for extremely imbalanced data\n",
    "* Outlier/novelty detection for deployed models\n",
    "* Quality assurance"
   ]
  },
  {
   "cell_type": "markdown",
   "metadata": {
    "slideshow": {
     "slide_type": "notes"
    }
   },
   "source": [
    "As a reminder outlier detection is distinguished from novelty detection by the whether or not outliers are assumed to be present in the training data.  If you think about it a little these methods have other uses beyond drift.  For example maybe you have say a deployed classification model and you would like to monitor for aberrant predictions.   You could also monitor the input data for a given model, by asking if it is similiar to historical data."
   ]
  },
  {
   "cell_type": "markdown",
   "metadata": {
    "slideshow": {
     "slide_type": "slide"
    }
   },
   "source": [
    "## Performance Drift\n",
    "\n",
    "> Any appreciable change in model performance between null and test data sets\n",
    "\n",
    "* <span style=\"color:orange\">concept drift</span> - the statistical distribution of a target variable changes over time\n",
    "* <span style=\"color:orange\">software decay</span> - phrase used to describe a model that decreases in performance \n",
    "* <span style=\"color:orange\">sampling bias</span> - sample is collected in such a way that some members of the intended population have a lower sampling probability than others\n",
    "\n",
    "We will use the iris data to generate batches of data in a way that simulates a form of sampling bias, which will cause concept drift.  We will monitor the predictions with log files and a novelty detection algorithm."
   ]
  },
  {
   "cell_type": "markdown",
   "metadata": {
    "slideshow": {
     "slide_type": "notes"
    }
   },
   "source": [
    "If we define performance drift as \"any appreciable change in model performance between null and test data sets\".  The null data set can be defined in many ways.  It could be all historical data, it could be all of the previous years data or just the data from the most recent training batch.  The null distribution in this case will depend on the business opportunity. One form of performance drift is known as concept drift and it is where the statistical distribution of the target variable changes over time.  We will use the iris data to generate batches of data in a way that simulates a form of sampling bias, which will cause concept drift.  This is not the only possible form of sampling bias to be aware of as there could be under represented groups within a data set that are not directly related to the target variable.  For this example, we will use the class proportions in the target variable to demonstrate drifting model performance."
   ]
  },
  {
   "cell_type": "markdown",
   "metadata": {
    "slideshow": {
     "slide_type": "slide"
    }
   },
   "source": [
    "## Overview of the functions for this example\n",
    "\n",
    "We are going to use the functions from `example-logging.py` to demonstrate one technique for performance monitoring"
   ]
  },
  {
   "cell_type": "code",
   "execution_count": 21,
   "metadata": {
    "slideshow": {
     "slide_type": "-"
    }
   },
   "outputs": [],
   "source": [
    "## note functions are bundled here to keep the demo portable, but source code should exist in separate files\n",
    "\n",
    "def train_model(X,y,saved_model):\n",
    "    \"\"\"\n",
    "    function to train model\n",
    "    \"\"\"\n",
    "\n",
    "    slide_print(\"... training\")\n",
    "    \n",
    "    ## Perform a train-test split\n",
    "    X_train, X_test, y_train, y_test = train_test_split(X, y, test_size=0.33, random_state=42)\n",
    "\n",
    "    ## Specify parameters and model\n",
    "    params = {'C':1.0,'kernel':'linear','gamma':0.5}\n",
    "    clf = svm.SVC(**params,probability=True)\n",
    "\n",
    "    ## fit model on training data\n",
    "    clf = clf.fit(X_train, y_train)\n",
    "    y_pred = clf.predict(X_test)\n",
    "    slide_print(classification_report(y_test,y_pred))\n",
    "\n",
    "    ## retrain using all data\n",
    "#     clf.fit(X, y)\n",
    "    joblib.dump(clf,saved_model)\n",
    "    "
   ]
  },
  {
   "cell_type": "markdown",
   "metadata": {
    "slideshow": {
     "slide_type": "notes"
    }
   },
   "source": [
    "Lets quickly look at the functions that we will use for this demonstration.  The train_model function is very similar to other train functions that we have seen.  We are not logging any data associated with the training at this point, but in a normal production scenario you would keep track of runtime,  model version and a summary of the classification report at a minimum."
   ]
  },
  {
   "cell_type": "code",
   "execution_count": 22,
   "metadata": {
    "slideshow": {
     "slide_type": "slide"
    }
   },
   "outputs": [],
   "source": [
    "def predict(query,saved_model,verbose=True):\n",
    "    \"\"\"\n",
    "    generic function for prediction\n",
    "    \"\"\"\n",
    "\n",
    "    if verbose:\n",
    "        slide_print(\"... predicting\")\n",
    "    \n",
    "    ## start timer for runtime\n",
    "    time_start = time.time()\n",
    "    \n",
    "    ## ensure the model is loaded\n",
    "    model = joblib.load(saved_model)\n",
    "\n",
    "    ## input checks\n",
    "    if isinstance(query,list):\n",
    "        query = np.array([query])\n",
    "    if len(query.shape) == 1:\n",
    "        query = query.reshape(1, -1)\n",
    "    \n",
    "    ## make prediction and gather data for log entry\n",
    "    y_pred = model.predict(query)\n",
    "    y_proba = None\n",
    "    if 'predict_proba' in dir(model) and model.probability == True:\n",
    "        y_proba = model.predict_proba(query)\n",
    "    m, s = divmod(time.time()-time_start, 60)\n",
    "    h, m = divmod(m, 60)\n",
    "    runtime = \"%03d:%02d:%02d\"%(h, m, s)\n",
    "\n",
    "    ## update the log file\n",
    "    _update_predict_log(y_pred,y_proba,query,runtime)\n",
    "    \n",
    "    return(y_pred)"
   ]
  },
  {
   "cell_type": "markdown",
   "metadata": {
    "slideshow": {
     "slide_type": "notes"
    }
   },
   "source": [
    "The predict function we are using. It is minimal implementation in terms of how hardened it is to different inputs. For example, we could add checks for the correct number and format of individual features, but this is enough to showcase the general process of detecting drift.  We are logging the predictions the probabilities associated with the predictions, the query itself and the runtime."
   ]
  },
  {
   "cell_type": "code",
   "execution_count": 23,
   "metadata": {
    "slideshow": {
     "slide_type": "slide"
    }
   },
   "outputs": [],
   "source": [
    "def _update_predict_log(y_pred,y_proba,query,runtime):\n",
    "    \"\"\"\n",
    "    update predict log file\n",
    "    \"\"\"\n",
    "    \n",
    "    ## name the logfile using something that cycles with date (day, month, year)    \n",
    "    today = date.today()\n",
    "    logfile = \"iris-svm-{}-{}.log\".format(today.year, today.month)\n",
    "\n",
    "    ## write the data to a csv file    \n",
    "    header = ['unique_id','timestamp','y_pred','y_proba','x_shape','model_version','runtime']\n",
    "    write_header = False\n",
    "    if not os.path.exists(logfile):\n",
    "        write_header = True\n",
    "    with open(logfile,'a') as csvfile:\n",
    "        writer = csv.writer(csvfile, delimiter=',', quotechar='|')\n",
    "        if write_header:\n",
    "            writer.writerow(header)\n",
    "\n",
    "        to_write = map(str,[uuid.uuid4(),time.time(),y_pred,y_proba,query.shape,MODEL_VERSION,runtime])\n",
    "        writer.writerow(to_write)"
   ]
  },
  {
   "cell_type": "markdown",
   "metadata": {
    "slideshow": {
     "slide_type": "notes"
    }
   },
   "source": [
    "This is the function to write to a log file.  This function could be bundled with other helper functions as a class or python module, but for at a minimum.  Given the row entries the file is opened using the append mode and they are written along with a unique id time_stamp and model version. We hardcoded the model version at the top of this notebook to keep the example concise, but generally it would reside in the `model.py` file or something similar."
   ]
  },
  {
   "cell_type": "markdown",
   "metadata": {
    "slideshow": {
     "slide_type": "slide"
    }
   },
   "source": [
    "## Putting it all together"
   ]
  },
  {
   "cell_type": "code",
   "execution_count": 24,
   "metadata": {
    "slideshow": {
     "slide_type": "-"
    }
   },
   "outputs": [
    {
     "name": "stdout",
     "output_type": "stream",
     "text": [
      "\u001b[40m\u001b[37m... training\u001b[0m\n",
      "\u001b[40m\u001b[37m              precision    recall  f1-score   support\n",
      "\n",
      "           0       1.00      1.00      1.00        19\n",
      "           1       0.67      0.53      0.59        15\n",
      "           2       0.63      0.75      0.69        16\n",
      "\n",
      "    accuracy                           0.78        50\n",
      "   macro avg       0.77      0.76      0.76        50\n",
      "weighted avg       0.78      0.78      0.78        50\n",
      "\u001b[0m\n",
      "\u001b[40m\u001b[37m... predicting\u001b[0m\n",
      "\u001b[40m\u001b[37m... predicting\u001b[0m\n",
      "\u001b[40m\u001b[37m... predicting\u001b[0m\n",
      "\u001b[40m\u001b[37mpredicted: [1, 2, 0]\u001b[0m\n",
      "\u001b[40m\u001b[37m1.0\u001b[0m\n"
     ]
    }
   ],
   "source": [
    "## import the original iris data\n",
    "iris = datasets.load_iris()\n",
    "X = iris.data[:,:2]\n",
    "y = iris.target\n",
    "\n",
    "## remove existing log file to start clean\n",
    "today = date.today()\n",
    "logfile = \"iris-svm-{}-{}.log\".format(today.year, today.month)\n",
    "if os.path.exists(logfile):\n",
    "    os.remove(logfile)\n",
    "\n",
    "## train the model\n",
    "saved_model = \"iris-svm-{}.joblib\".format(re.sub(\"\\.\",\"_\",str(MODEL_VERSION)))\n",
    "train_model(X,y,saved_model)\n",
    "\n",
    "## example predict\n",
    "queries = [[6.1,2.8],[7.7,2.5],[5.8,3.8]]\n",
    "y_pred = [predict(query,saved_model)[0] for query in queries]\n",
    "slide_print(\"predicted: {}\".format(y_pred))\n",
    "slide_print(f1_score([1,2,0], y_pred,average='weighted'))"
   ]
  },
  {
   "cell_type": "code",
   "execution_count": 9,
   "metadata": {},
   "outputs": [
    {
     "data": {
      "text/plain": [
       "array([[5.1, 3.5],\n",
       "       [4.9, 3. ],\n",
       "       [4.7, 3.2],\n",
       "       [4.6, 3.1],\n",
       "       [5. , 3.6],\n",
       "       [5.4, 3.9],\n",
       "       [4.6, 3.4],\n",
       "       [5. , 3.4],\n",
       "       [4.4, 2.9],\n",
       "       [4.9, 3.1],\n",
       "       [5.4, 3.7],\n",
       "       [4.8, 3.4],\n",
       "       [4.8, 3. ],\n",
       "       [4.3, 3. ],\n",
       "       [5.8, 4. ],\n",
       "       [5.7, 4.4],\n",
       "       [5.4, 3.9],\n",
       "       [5.1, 3.5],\n",
       "       [5.7, 3.8],\n",
       "       [5.1, 3.8],\n",
       "       [5.4, 3.4],\n",
       "       [5.1, 3.7],\n",
       "       [4.6, 3.6],\n",
       "       [5.1, 3.3],\n",
       "       [4.8, 3.4],\n",
       "       [5. , 3. ],\n",
       "       [5. , 3.4],\n",
       "       [5.2, 3.5],\n",
       "       [5.2, 3.4],\n",
       "       [4.7, 3.2],\n",
       "       [4.8, 3.1],\n",
       "       [5.4, 3.4],\n",
       "       [5.2, 4.1],\n",
       "       [5.5, 4.2],\n",
       "       [4.9, 3.1],\n",
       "       [5. , 3.2],\n",
       "       [5.5, 3.5],\n",
       "       [4.9, 3.6],\n",
       "       [4.4, 3. ],\n",
       "       [5.1, 3.4],\n",
       "       [5. , 3.5],\n",
       "       [4.5, 2.3],\n",
       "       [4.4, 3.2],\n",
       "       [5. , 3.5],\n",
       "       [5.1, 3.8],\n",
       "       [4.8, 3. ],\n",
       "       [5.1, 3.8],\n",
       "       [4.6, 3.2],\n",
       "       [5.3, 3.7],\n",
       "       [5. , 3.3],\n",
       "       [7. , 3.2],\n",
       "       [6.4, 3.2],\n",
       "       [6.9, 3.1],\n",
       "       [5.5, 2.3],\n",
       "       [6.5, 2.8],\n",
       "       [5.7, 2.8],\n",
       "       [6.3, 3.3],\n",
       "       [4.9, 2.4],\n",
       "       [6.6, 2.9],\n",
       "       [5.2, 2.7],\n",
       "       [5. , 2. ],\n",
       "       [5.9, 3. ],\n",
       "       [6. , 2.2],\n",
       "       [6.1, 2.9],\n",
       "       [5.6, 2.9],\n",
       "       [6.7, 3.1],\n",
       "       [5.6, 3. ],\n",
       "       [5.8, 2.7],\n",
       "       [6.2, 2.2],\n",
       "       [5.6, 2.5],\n",
       "       [5.9, 3.2],\n",
       "       [6.1, 2.8],\n",
       "       [6.3, 2.5],\n",
       "       [6.1, 2.8],\n",
       "       [6.4, 2.9],\n",
       "       [6.6, 3. ],\n",
       "       [6.8, 2.8],\n",
       "       [6.7, 3. ],\n",
       "       [6. , 2.9],\n",
       "       [5.7, 2.6],\n",
       "       [5.5, 2.4],\n",
       "       [5.5, 2.4],\n",
       "       [5.8, 2.7],\n",
       "       [6. , 2.7],\n",
       "       [5.4, 3. ],\n",
       "       [6. , 3.4],\n",
       "       [6.7, 3.1],\n",
       "       [6.3, 2.3],\n",
       "       [5.6, 3. ],\n",
       "       [5.5, 2.5],\n",
       "       [5.5, 2.6],\n",
       "       [6.1, 3. ],\n",
       "       [5.8, 2.6],\n",
       "       [5. , 2.3],\n",
       "       [5.6, 2.7],\n",
       "       [5.7, 3. ],\n",
       "       [5.7, 2.9],\n",
       "       [6.2, 2.9],\n",
       "       [5.1, 2.5],\n",
       "       [5.7, 2.8],\n",
       "       [6.3, 3.3],\n",
       "       [5.8, 2.7],\n",
       "       [7.1, 3. ],\n",
       "       [6.3, 2.9],\n",
       "       [6.5, 3. ],\n",
       "       [7.6, 3. ],\n",
       "       [4.9, 2.5],\n",
       "       [7.3, 2.9],\n",
       "       [6.7, 2.5],\n",
       "       [7.2, 3.6],\n",
       "       [6.5, 3.2],\n",
       "       [6.4, 2.7],\n",
       "       [6.8, 3. ],\n",
       "       [5.7, 2.5],\n",
       "       [5.8, 2.8],\n",
       "       [6.4, 3.2],\n",
       "       [6.5, 3. ],\n",
       "       [7.7, 3.8],\n",
       "       [7.7, 2.6],\n",
       "       [6. , 2.2],\n",
       "       [6.9, 3.2],\n",
       "       [5.6, 2.8],\n",
       "       [7.7, 2.8],\n",
       "       [6.3, 2.7],\n",
       "       [6.7, 3.3],\n",
       "       [7.2, 3.2],\n",
       "       [6.2, 2.8],\n",
       "       [6.1, 3. ],\n",
       "       [6.4, 2.8],\n",
       "       [7.2, 3. ],\n",
       "       [7.4, 2.8],\n",
       "       [7.9, 3.8],\n",
       "       [6.4, 2.8],\n",
       "       [6.3, 2.8],\n",
       "       [6.1, 2.6],\n",
       "       [7.7, 3. ],\n",
       "       [6.3, 3.4],\n",
       "       [6.4, 3.1],\n",
       "       [6. , 3. ],\n",
       "       [6.9, 3.1],\n",
       "       [6.7, 3.1],\n",
       "       [6.9, 3.1],\n",
       "       [5.8, 2.7],\n",
       "       [6.8, 3.2],\n",
       "       [6.7, 3.3],\n",
       "       [6.7, 3. ],\n",
       "       [6.3, 2.5],\n",
       "       [6.5, 3. ],\n",
       "       [6.2, 3.4],\n",
       "       [5.9, 3. ]])"
      ]
     },
     "execution_count": 9,
     "metadata": {},
     "output_type": "execute_result"
    }
   ],
   "source": [
    "# 1. sepal length in cm\n",
    "# 2. sepal width in cm\n",
    "# 3. petal length in cm\n",
    "# 4. petal width in cm\n",
    "# 5. class:\n",
    "\n",
    "\n",
    "iris.data[:,:2]"
   ]
  },
  {
   "cell_type": "code",
   "execution_count": 32,
   "metadata": {},
   "outputs": [
    {
     "data": {
      "text/plain": [
       "(150, 2)"
      ]
     },
     "execution_count": 32,
     "metadata": {},
     "output_type": "execute_result"
    }
   ],
   "source": [
    "tt = iris.data[:,:2]\n",
    "tt.shape"
   ]
  },
  {
   "cell_type": "markdown",
   "metadata": {
    "slideshow": {
     "slide_type": "notes"
    }
   },
   "source": [
    "This slide shows the functions in use.  First we load the iris data limiting it to only the first two features.  With all of the features the classification problem becomes too easy and makes the demonstration unrealistic.  We show how to train the model and run a query.  "
   ]
  },
  {
   "cell_type": "code",
   "execution_count": 6,
   "metadata": {
    "slideshow": {
     "slide_type": "slide"
    }
   },
   "outputs": [],
   "source": [
    "## Simulating data"
   ]
  },
  {
   "cell_type": "code",
   "execution_count": 25,
   "metadata": {
    "slideshow": {
     "slide_type": "-"
    }
   },
   "outputs": [
    {
     "name": "stdout",
     "output_type": "stream",
     "text": [
      "\u001b[40m\u001b[37m[(0, 50), (1, 50), (2, 50)]\u001b[0m\n"
     ]
    }
   ],
   "source": [
    "# Counting classes in labels\n",
    "slide_print(sorted(Counter(y).items()))"
   ]
  },
  {
   "cell_type": "code",
   "execution_count": 26,
   "metadata": {
    "slideshow": {
     "slide_type": "-"
    }
   },
   "outputs": [
    {
     "name": "stdout",
     "output_type": "stream",
     "text": [
      "\u001b[40m\u001b[37m[(0, 38), (1, 38), (2, 75)]\u001b[0m\n"
     ]
    }
   ],
   "source": [
    "def simulate_samples(nsamples,X,y,weights):\n",
    "    \"\"\"\n",
    "    simulate new samples (via bootstrap) varying the relative percentages\n",
    "    ensure the weights sum to 1.0\n",
    "    \"\"\"\n",
    "\n",
    "    totals = np.round(np.array(weights) * nsamples).astype(int)\n",
    "    indices = np.arange(y.size)\n",
    "    new_indices = []\n",
    "    for i,c in enumerate(np.unique(y)):\n",
    "        new_indices.extend(np.random.choice(indices[y==c],totals[i],replace=True))\n",
    "     \n",
    "    y_new = y[new_indices]\n",
    "    X_new = X[new_indices,:]\n",
    "    return(X_new,y_new)\n",
    "\n",
    "n = 150\n",
    "weights = np.array([0.25,0.25,0.50]) \n",
    "X_new,y_new = simulate_samples(n,X,y,weights)\n",
    "slide_print(sorted(Counter(y_new).items()))"
   ]
  },
  {
   "cell_type": "markdown",
   "metadata": {
    "slideshow": {
     "slide_type": "notes"
    }
   },
   "source": [
    "Here we have a function to simulate new samples using the bootstrap, which as a reminder is sampling with replacement.  We see the original data has balanced classes as shown with the Counter dictionary.  We then run the simulate_samples function to see how the data change. (Optionally change n)"
   ]
  },
  {
   "cell_type": "code",
   "execution_count": 27,
   "metadata": {
    "slideshow": {
     "slide_type": "slide"
    }
   },
   "outputs": [
    {
     "name": "stdout",
     "output_type": "stream",
     "text": [
      "\u001b[40m\u001b[37mpercent class 3: 0.33, f1_score: 0.8\u001b[0m\n",
      "\u001b[40m\u001b[37mpercent class 3: 0.38, f1_score: 0.76\u001b[0m\n",
      "\u001b[40m\u001b[37mpercent class 3: 0.43, f1_score: 0.87\u001b[0m\n",
      "\u001b[40m\u001b[37mpercent class 3: 0.48, f1_score: 0.79\u001b[0m\n",
      "\u001b[40m\u001b[37mpercent class 3: 0.52, f1_score: 0.78\u001b[0m\n",
      "\u001b[40m\u001b[37mpercent class 3: 0.58, f1_score: 0.73\u001b[0m\n",
      "\u001b[40m\u001b[37mpercent class 3: 0.64, f1_score: 0.81\u001b[0m\n",
      "\u001b[40m\u001b[37mpercent class 3: 0.68, f1_score: 0.84\u001b[0m\n",
      "\u001b[40m\u001b[37mpercent class 3: 0.72, f1_score: 0.82\u001b[0m\n",
      "\u001b[40m\u001b[37mpercent class 3: 0.78, f1_score: 0.77\u001b[0m\n",
      "\u001b[40m\u001b[37mpercent class 3: 0.84, f1_score: 0.74\u001b[0m\n",
      "\u001b[40m\u001b[37mpercent class 3: 0.88, f1_score: 0.81\u001b[0m\n",
      "\u001b[40m\u001b[37mpercent class 3: 0.92, f1_score: 0.79\u001b[0m\n"
     ]
    }
   ],
   "source": [
    "drifting_weights = [np.array([(100-p)/2.0,(100-p)/2.0,p]) / 100.0 for p in np.arange(33,95,5)]\n",
    "n = 100\n",
    "for weights in drifting_weights:\n",
    "    X_new,y_new = simulate_samples(n,X,y,weights)\n",
    "    percent_class_3 = np.round(y_new[y_new==2].size / y_new.size,2)\n",
    "    y_pred = [predict(X_new[row,:],saved_model,verbose=False)[0] for row in range(y_new.shape[0])]\n",
    "    f1 = np.round(f1_score(y_new, y_pred,average='weighted'),2)\n",
    "    slide_print(\"percent class 3: {}, f1_score: {}\".format(percent_class_3,f1))"
   ]
  },
  {
   "cell_type": "markdown",
   "metadata": {
    "slideshow": {
     "slide_type": "notes"
    }
   },
   "source": [
    "Here we simulate a bunch of data where the percentage of class three is taking up more an more of the overall feature space.  The percentage ranges from 33 percent up until 92.  Recall that the original f_1 score was 0.78. so that means that our model performance stayed roughly the same with maybe even a small increase in performance.  This implies that if we were monitoring based on f1_score along we would potentially miss out on the fact that we have very imbalanced classes now.  SVMs if you recall can do quite well with class imbalance.  We were only able to calculate the f1_scores because we know the true predictions.  This would  analogous to waiting until the query data was labeled and then coming back and checking whether or not the model performance is drifting."
   ]
  },
  {
   "cell_type": "code",
   "execution_count": 28,
   "metadata": {
    "slideshow": {
     "slide_type": "slide"
    }
   },
   "outputs": [],
   "source": [
    "from sklearn.covariance import EllipticEnvelope\n",
    "from scipy.stats import wasserstein_distance\n",
    "\n",
    "clf_y = EllipticEnvelope(random_state=0,contamination=0.01)\n",
    "clf_X = EllipticEnvelope(random_state=0,contamination=0.01)\n",
    "\n",
    "clf_X.fit(X)\n",
    "clf_y.fit(y.reshape(y.size,1))\n",
    "\n",
    "results = defaultdict(list)\n",
    "for weights in drifting_weights:\n",
    "    X_new,y_new = simulate_samples(n,X,y,weights)\n",
    "    results[\"class_3_percent\"].append(np.round(y_new[y_new==2].size / y_new.size,2))\n",
    "    results['wasserstein_X'].append(np.round(wasserstein_distance(X.flatten(),X_new.flatten()),2))\n",
    "    results['wasserstein_y'].append(np.round(wasserstein_distance(y,y_new),2))\n",
    "    test1 = clf_X.predict(X_new)\n",
    "    test2 = clf_y.predict(y_new.reshape(y_new.size,1))\n",
    "    results[\"outlier_percent_X\"].append(np.round(1.0 - (test1[test1==1].size / test1.size),2))\n",
    "    results[\"outlier_percent_y\"].append(np.round(1.0 - (test2[test2==1].size / test2.size),2))\n",
    "    \n",
    "results_df = pd.DataFrame(results)"
   ]
  },
  {
   "cell_type": "markdown",
   "metadata": {
    "slideshow": {
     "slide_type": "notes"
    }
   },
   "source": [
    "There was a major shift in the distributional nature of our data. Given the such an extreme change in our data we would want to know about it even if it is not readily apparent in by looking at the logged evaluation metric.  So here we are testing for outliers, using the Elliptic Envelop, a variance based method. It is important to note that we are looking for outliers not distributional changes, which can be related, but they do not necessarily coincide.  To specifically look for distributional changes we also use the Wasserstein metric.  We run both of these checks on the features and on the targets."
   ]
  },
  {
   "cell_type": "code",
   "execution_count": 29,
   "metadata": {
    "slideshow": {
     "slide_type": "slide"
    }
   },
   "outputs": [
    {
     "data": {
      "text/html": [
       "<style  type=\"text/css\" >\n",
       "    #T_5227378c_9730_11ea_a45c_820d4f6a4a00row0_col1 {\n",
       "            width:  10em;\n",
       "             height:  80%;\n",
       "            background:  linear-gradient(90deg, transparent 50.0%, lightblue 50.0%, lightblue 58.7%, transparent 58.7%);\n",
       "        }    #T_5227378c_9730_11ea_a45c_820d4f6a4a00row0_col2 {\n",
       "            width:  10em;\n",
       "             height:  80%;\n",
       "            background:  linear-gradient(90deg, transparent 50.0%, lightblue 50.0%, lightblue 50.6%, transparent 50.6%);\n",
       "        }    #T_5227378c_9730_11ea_a45c_820d4f6a4a00row0_col3 {\n",
       "            width:  10em;\n",
       "             height:  80%;\n",
       "            background:  linear-gradient(90deg, transparent 50.0%, red 50.0%, red 60.0%, transparent 60.0%);\n",
       "        }    #T_5227378c_9730_11ea_a45c_820d4f6a4a00row0_col4 {\n",
       "            width:  10em;\n",
       "             height:  80%;\n",
       "        }    #T_5227378c_9730_11ea_a45c_820d4f6a4a00row1_col1 {\n",
       "            width:  10em;\n",
       "             height:  80%;\n",
       "            background:  linear-gradient(90deg, transparent 50.0%, lightblue 50.0%, lightblue 63.7%, transparent 63.7%);\n",
       "        }    #T_5227378c_9730_11ea_a45c_820d4f6a4a00row1_col2 {\n",
       "            width:  10em;\n",
       "             height:  80%;\n",
       "            background:  linear-gradient(90deg, transparent 50.0%, lightblue 50.0%, lightblue 54.0%, transparent 54.0%);\n",
       "        }    #T_5227378c_9730_11ea_a45c_820d4f6a4a00row1_col3 {\n",
       "            width:  10em;\n",
       "             height:  80%;\n",
       "            background:  linear-gradient(90deg, transparent 50.0%, red 50.0%, red 60.0%, transparent 60.0%);\n",
       "        }    #T_5227378c_9730_11ea_a45c_820d4f6a4a00row1_col4 {\n",
       "            width:  10em;\n",
       "             height:  80%;\n",
       "        }    #T_5227378c_9730_11ea_a45c_820d4f6a4a00row2_col1 {\n",
       "            width:  10em;\n",
       "             height:  80%;\n",
       "            background:  linear-gradient(90deg, transparent 50.0%, lightblue 50.0%, lightblue 58.7%, transparent 58.7%);\n",
       "        }    #T_5227378c_9730_11ea_a45c_820d4f6a4a00row2_col2 {\n",
       "            width:  10em;\n",
       "             height:  80%;\n",
       "            background:  linear-gradient(90deg, transparent 50.0%, lightblue 50.0%, lightblue 58.5%, transparent 58.5%);\n",
       "        }    #T_5227378c_9730_11ea_a45c_820d4f6a4a00row2_col3 {\n",
       "            width:  10em;\n",
       "             height:  80%;\n",
       "        }    #T_5227378c_9730_11ea_a45c_820d4f6a4a00row2_col4 {\n",
       "            width:  10em;\n",
       "             height:  80%;\n",
       "        }    #T_5227378c_9730_11ea_a45c_820d4f6a4a00row3_col1 {\n",
       "            width:  10em;\n",
       "             height:  80%;\n",
       "            background:  linear-gradient(90deg, transparent 50.0%, lightblue 50.0%, lightblue 62.5%, transparent 62.5%);\n",
       "        }    #T_5227378c_9730_11ea_a45c_820d4f6a4a00row3_col2 {\n",
       "            width:  10em;\n",
       "             height:  80%;\n",
       "            background:  linear-gradient(90deg, transparent 50.0%, lightblue 50.0%, lightblue 62.5%, transparent 62.5%);\n",
       "        }    #T_5227378c_9730_11ea_a45c_820d4f6a4a00row3_col3 {\n",
       "            width:  10em;\n",
       "             height:  80%;\n",
       "            background:  linear-gradient(90deg, transparent 50.0%, red 50.0%, red 60.0%, transparent 60.0%);\n",
       "        }    #T_5227378c_9730_11ea_a45c_820d4f6a4a00row3_col4 {\n",
       "            width:  10em;\n",
       "             height:  80%;\n",
       "        }    #T_5227378c_9730_11ea_a45c_820d4f6a4a00row4_col1 {\n",
       "            width:  10em;\n",
       "             height:  80%;\n",
       "            background:  linear-gradient(90deg, transparent 50.0%, lightblue 50.0%, lightblue 68.7%, transparent 68.7%);\n",
       "        }    #T_5227378c_9730_11ea_a45c_820d4f6a4a00row4_col2 {\n",
       "            width:  10em;\n",
       "             height:  80%;\n",
       "            background:  linear-gradient(90deg, transparent 50.0%, lightblue 50.0%, lightblue 66.5%, transparent 66.5%);\n",
       "        }    #T_5227378c_9730_11ea_a45c_820d4f6a4a00row4_col3 {\n",
       "            width:  10em;\n",
       "             height:  80%;\n",
       "            background:  linear-gradient(90deg, transparent 50.0%, red 50.0%, red 60.0%, transparent 60.0%);\n",
       "        }    #T_5227378c_9730_11ea_a45c_820d4f6a4a00row4_col4 {\n",
       "            width:  10em;\n",
       "             height:  80%;\n",
       "        }    #T_5227378c_9730_11ea_a45c_820d4f6a4a00row5_col1 {\n",
       "            width:  10em;\n",
       "             height:  80%;\n",
       "            background:  linear-gradient(90deg, transparent 50.0%, lightblue 50.0%, lightblue 65.0%, transparent 65.0%);\n",
       "        }    #T_5227378c_9730_11ea_a45c_820d4f6a4a00row5_col2 {\n",
       "            width:  10em;\n",
       "             height:  80%;\n",
       "            background:  linear-gradient(90deg, transparent 50.0%, lightblue 50.0%, lightblue 71.0%, transparent 71.0%);\n",
       "        }    #T_5227378c_9730_11ea_a45c_820d4f6a4a00row5_col3 {\n",
       "            width:  10em;\n",
       "             height:  80%;\n",
       "            background:  linear-gradient(90deg, transparent 50.0%, red 50.0%, red 65.0%, transparent 65.0%);\n",
       "        }    #T_5227378c_9730_11ea_a45c_820d4f6a4a00row5_col4 {\n",
       "            width:  10em;\n",
       "             height:  80%;\n",
       "        }    #T_5227378c_9730_11ea_a45c_820d4f6a4a00row6_col1 {\n",
       "            width:  10em;\n",
       "             height:  80%;\n",
       "            background:  linear-gradient(90deg, transparent 50.0%, lightblue 50.0%, lightblue 73.7%, transparent 73.7%);\n",
       "        }    #T_5227378c_9730_11ea_a45c_820d4f6a4a00row6_col2 {\n",
       "            width:  10em;\n",
       "             height:  80%;\n",
       "            background:  linear-gradient(90deg, transparent 50.0%, lightblue 50.0%, lightblue 75.6%, transparent 75.6%);\n",
       "        }    #T_5227378c_9730_11ea_a45c_820d4f6a4a00row6_col3 {\n",
       "            width:  10em;\n",
       "             height:  80%;\n",
       "            background:  linear-gradient(90deg, transparent 50.0%, red 50.0%, red 55.0%, transparent 55.0%);\n",
       "        }    #T_5227378c_9730_11ea_a45c_820d4f6a4a00row6_col4 {\n",
       "            width:  10em;\n",
       "             height:  80%;\n",
       "        }    #T_5227378c_9730_11ea_a45c_820d4f6a4a00row7_col1 {\n",
       "            width:  10em;\n",
       "             height:  80%;\n",
       "            background:  linear-gradient(90deg, transparent 50.0%, lightblue 50.0%, lightblue 78.7%, transparent 78.7%);\n",
       "        }    #T_5227378c_9730_11ea_a45c_820d4f6a4a00row7_col2 {\n",
       "            width:  10em;\n",
       "             height:  80%;\n",
       "            background:  linear-gradient(90deg, transparent 50.0%, lightblue 50.0%, lightblue 79.5%, transparent 79.5%);\n",
       "        }    #T_5227378c_9730_11ea_a45c_820d4f6a4a00row7_col3 {\n",
       "            width:  10em;\n",
       "             height:  80%;\n",
       "            background:  linear-gradient(90deg, transparent 50.0%, red 50.0%, red 60.0%, transparent 60.0%);\n",
       "        }    #T_5227378c_9730_11ea_a45c_820d4f6a4a00row7_col4 {\n",
       "            width:  10em;\n",
       "             height:  80%;\n",
       "        }    #T_5227378c_9730_11ea_a45c_820d4f6a4a00row8_col1 {\n",
       "            width:  10em;\n",
       "             height:  80%;\n",
       "            background:  linear-gradient(90deg, transparent 50.0%, lightblue 50.0%, lightblue 80.0%, transparent 80.0%);\n",
       "        }    #T_5227378c_9730_11ea_a45c_820d4f6a4a00row8_col2 {\n",
       "            width:  10em;\n",
       "             height:  80%;\n",
       "            background:  linear-gradient(90deg, transparent 50.0%, lightblue 50.0%, lightblue 83.0%, transparent 83.0%);\n",
       "        }    #T_5227378c_9730_11ea_a45c_820d4f6a4a00row8_col3 {\n",
       "            width:  10em;\n",
       "             height:  80%;\n",
       "        }    #T_5227378c_9730_11ea_a45c_820d4f6a4a00row8_col4 {\n",
       "            width:  10em;\n",
       "             height:  80%;\n",
       "        }    #T_5227378c_9730_11ea_a45c_820d4f6a4a00row9_col1 {\n",
       "            width:  10em;\n",
       "             height:  80%;\n",
       "            background:  linear-gradient(90deg, transparent 50.0%, lightblue 50.0%, lightblue 88.7%, transparent 88.7%);\n",
       "        }    #T_5227378c_9730_11ea_a45c_820d4f6a4a00row9_col2 {\n",
       "            width:  10em;\n",
       "             height:  80%;\n",
       "            background:  linear-gradient(90deg, transparent 50.0%, lightblue 50.0%, lightblue 88.1%, transparent 88.1%);\n",
       "        }    #T_5227378c_9730_11ea_a45c_820d4f6a4a00row9_col3 {\n",
       "            width:  10em;\n",
       "             height:  80%;\n",
       "            background:  linear-gradient(90deg, transparent 50.0%, red 50.0%, red 55.0%, transparent 55.0%);\n",
       "        }    #T_5227378c_9730_11ea_a45c_820d4f6a4a00row9_col4 {\n",
       "            width:  10em;\n",
       "             height:  80%;\n",
       "        }    #T_5227378c_9730_11ea_a45c_820d4f6a4a00row10_col1 {\n",
       "            width:  10em;\n",
       "             height:  80%;\n",
       "            background:  linear-gradient(90deg, transparent 50.0%, lightblue 50.0%, lightblue 93.7%, transparent 93.7%);\n",
       "        }    #T_5227378c_9730_11ea_a45c_820d4f6a4a00row10_col2 {\n",
       "            width:  10em;\n",
       "             height:  80%;\n",
       "            background:  linear-gradient(90deg, transparent 50.0%, lightblue 50.0%, lightblue 93.2%, transparent 93.2%);\n",
       "        }    #T_5227378c_9730_11ea_a45c_820d4f6a4a00row10_col3 {\n",
       "            width:  10em;\n",
       "             height:  80%;\n",
       "        }    #T_5227378c_9730_11ea_a45c_820d4f6a4a00row10_col4 {\n",
       "            width:  10em;\n",
       "             height:  80%;\n",
       "        }    #T_5227378c_9730_11ea_a45c_820d4f6a4a00row11_col1 {\n",
       "            width:  10em;\n",
       "             height:  80%;\n",
       "            background:  linear-gradient(90deg, transparent 50.0%, lightblue 50.0%, lightblue 95.0%, transparent 95.0%);\n",
       "        }    #T_5227378c_9730_11ea_a45c_820d4f6a4a00row11_col2 {\n",
       "            width:  10em;\n",
       "             height:  80%;\n",
       "            background:  linear-gradient(90deg, transparent 50.0%, lightblue 50.0%, lightblue 96.6%, transparent 96.6%);\n",
       "        }    #T_5227378c_9730_11ea_a45c_820d4f6a4a00row11_col3 {\n",
       "            width:  10em;\n",
       "             height:  80%;\n",
       "        }    #T_5227378c_9730_11ea_a45c_820d4f6a4a00row11_col4 {\n",
       "            width:  10em;\n",
       "             height:  80%;\n",
       "        }    #T_5227378c_9730_11ea_a45c_820d4f6a4a00row12_col1 {\n",
       "            width:  10em;\n",
       "             height:  80%;\n",
       "            background:  linear-gradient(90deg, transparent 50.0%, lightblue 50.0%, lightblue 100.0%, transparent 100.0%);\n",
       "        }    #T_5227378c_9730_11ea_a45c_820d4f6a4a00row12_col2 {\n",
       "            width:  10em;\n",
       "             height:  80%;\n",
       "            background:  linear-gradient(90deg, transparent 50.0%, lightblue 50.0%, lightblue 100.0%, transparent 100.0%);\n",
       "        }    #T_5227378c_9730_11ea_a45c_820d4f6a4a00row12_col3 {\n",
       "            width:  10em;\n",
       "             height:  80%;\n",
       "            background:  linear-gradient(90deg, transparent 50.0%, red 50.0%, red 55.0%, transparent 55.0%);\n",
       "        }    #T_5227378c_9730_11ea_a45c_820d4f6a4a00row12_col4 {\n",
       "            width:  10em;\n",
       "             height:  80%;\n",
       "        }</style><table id=\"T_5227378c_9730_11ea_a45c_820d4f6a4a00\" ><caption>Performance Monitoring</caption><thead>    <tr>        <th class=\"col_heading level0 col0\" >class_3_percent</th>        <th class=\"col_heading level0 col1\" >wasserstein_X</th>        <th class=\"col_heading level0 col2\" >wasserstein_y</th>        <th class=\"col_heading level0 col3\" >outlier_percent_X</th>        <th class=\"col_heading level0 col4\" >outlier_percent_y</th>    </tr></thead><tbody>\n",
       "                <tr>\n",
       "                                <td id=\"T_5227378c_9730_11ea_a45c_820d4f6a4a00row0_col0\" class=\"data row0 col0\" >0.330000</td>\n",
       "                        <td id=\"T_5227378c_9730_11ea_a45c_820d4f6a4a00row0_col1\" class=\"data row0 col1\" >0.070000</td>\n",
       "                        <td id=\"T_5227378c_9730_11ea_a45c_820d4f6a4a00row0_col2\" class=\"data row0 col2\" >0.010000</td>\n",
       "                        <td id=\"T_5227378c_9730_11ea_a45c_820d4f6a4a00row0_col3\" class=\"data row0 col3\" >0.020000</td>\n",
       "                        <td id=\"T_5227378c_9730_11ea_a45c_820d4f6a4a00row0_col4\" class=\"data row0 col4\" >0.000000</td>\n",
       "            </tr>\n",
       "            <tr>\n",
       "                                <td id=\"T_5227378c_9730_11ea_a45c_820d4f6a4a00row1_col0\" class=\"data row1 col0\" >0.380000</td>\n",
       "                        <td id=\"T_5227378c_9730_11ea_a45c_820d4f6a4a00row1_col1\" class=\"data row1 col1\" >0.110000</td>\n",
       "                        <td id=\"T_5227378c_9730_11ea_a45c_820d4f6a4a00row1_col2\" class=\"data row1 col2\" >0.070000</td>\n",
       "                        <td id=\"T_5227378c_9730_11ea_a45c_820d4f6a4a00row1_col3\" class=\"data row1 col3\" >0.020000</td>\n",
       "                        <td id=\"T_5227378c_9730_11ea_a45c_820d4f6a4a00row1_col4\" class=\"data row1 col4\" >0.000000</td>\n",
       "            </tr>\n",
       "            <tr>\n",
       "                                <td id=\"T_5227378c_9730_11ea_a45c_820d4f6a4a00row2_col0\" class=\"data row2 col0\" >0.430000</td>\n",
       "                        <td id=\"T_5227378c_9730_11ea_a45c_820d4f6a4a00row2_col1\" class=\"data row2 col1\" >0.070000</td>\n",
       "                        <td id=\"T_5227378c_9730_11ea_a45c_820d4f6a4a00row2_col2\" class=\"data row2 col2\" >0.150000</td>\n",
       "                        <td id=\"T_5227378c_9730_11ea_a45c_820d4f6a4a00row2_col3\" class=\"data row2 col3\" >0.000000</td>\n",
       "                        <td id=\"T_5227378c_9730_11ea_a45c_820d4f6a4a00row2_col4\" class=\"data row2 col4\" >0.000000</td>\n",
       "            </tr>\n",
       "            <tr>\n",
       "                                <td id=\"T_5227378c_9730_11ea_a45c_820d4f6a4a00row3_col0\" class=\"data row3 col0\" >0.480000</td>\n",
       "                        <td id=\"T_5227378c_9730_11ea_a45c_820d4f6a4a00row3_col1\" class=\"data row3 col1\" >0.100000</td>\n",
       "                        <td id=\"T_5227378c_9730_11ea_a45c_820d4f6a4a00row3_col2\" class=\"data row3 col2\" >0.220000</td>\n",
       "                        <td id=\"T_5227378c_9730_11ea_a45c_820d4f6a4a00row3_col3\" class=\"data row3 col3\" >0.020000</td>\n",
       "                        <td id=\"T_5227378c_9730_11ea_a45c_820d4f6a4a00row3_col4\" class=\"data row3 col4\" >0.000000</td>\n",
       "            </tr>\n",
       "            <tr>\n",
       "                                <td id=\"T_5227378c_9730_11ea_a45c_820d4f6a4a00row4_col0\" class=\"data row4 col0\" >0.520000</td>\n",
       "                        <td id=\"T_5227378c_9730_11ea_a45c_820d4f6a4a00row4_col1\" class=\"data row4 col1\" >0.150000</td>\n",
       "                        <td id=\"T_5227378c_9730_11ea_a45c_820d4f6a4a00row4_col2\" class=\"data row4 col2\" >0.290000</td>\n",
       "                        <td id=\"T_5227378c_9730_11ea_a45c_820d4f6a4a00row4_col3\" class=\"data row4 col3\" >0.020000</td>\n",
       "                        <td id=\"T_5227378c_9730_11ea_a45c_820d4f6a4a00row4_col4\" class=\"data row4 col4\" >0.000000</td>\n",
       "            </tr>\n",
       "            <tr>\n",
       "                                <td id=\"T_5227378c_9730_11ea_a45c_820d4f6a4a00row5_col0\" class=\"data row5 col0\" >0.580000</td>\n",
       "                        <td id=\"T_5227378c_9730_11ea_a45c_820d4f6a4a00row5_col1\" class=\"data row5 col1\" >0.120000</td>\n",
       "                        <td id=\"T_5227378c_9730_11ea_a45c_820d4f6a4a00row5_col2\" class=\"data row5 col2\" >0.370000</td>\n",
       "                        <td id=\"T_5227378c_9730_11ea_a45c_820d4f6a4a00row5_col3\" class=\"data row5 col3\" >0.030000</td>\n",
       "                        <td id=\"T_5227378c_9730_11ea_a45c_820d4f6a4a00row5_col4\" class=\"data row5 col4\" >0.000000</td>\n",
       "            </tr>\n",
       "            <tr>\n",
       "                                <td id=\"T_5227378c_9730_11ea_a45c_820d4f6a4a00row6_col0\" class=\"data row6 col0\" >0.640000</td>\n",
       "                        <td id=\"T_5227378c_9730_11ea_a45c_820d4f6a4a00row6_col1\" class=\"data row6 col1\" >0.190000</td>\n",
       "                        <td id=\"T_5227378c_9730_11ea_a45c_820d4f6a4a00row6_col2\" class=\"data row6 col2\" >0.450000</td>\n",
       "                        <td id=\"T_5227378c_9730_11ea_a45c_820d4f6a4a00row6_col3\" class=\"data row6 col3\" >0.010000</td>\n",
       "                        <td id=\"T_5227378c_9730_11ea_a45c_820d4f6a4a00row6_col4\" class=\"data row6 col4\" >0.000000</td>\n",
       "            </tr>\n",
       "            <tr>\n",
       "                                <td id=\"T_5227378c_9730_11ea_a45c_820d4f6a4a00row7_col0\" class=\"data row7 col0\" >0.680000</td>\n",
       "                        <td id=\"T_5227378c_9730_11ea_a45c_820d4f6a4a00row7_col1\" class=\"data row7 col1\" >0.230000</td>\n",
       "                        <td id=\"T_5227378c_9730_11ea_a45c_820d4f6a4a00row7_col2\" class=\"data row7 col2\" >0.520000</td>\n",
       "                        <td id=\"T_5227378c_9730_11ea_a45c_820d4f6a4a00row7_col3\" class=\"data row7 col3\" >0.020000</td>\n",
       "                        <td id=\"T_5227378c_9730_11ea_a45c_820d4f6a4a00row7_col4\" class=\"data row7 col4\" >0.000000</td>\n",
       "            </tr>\n",
       "            <tr>\n",
       "                                <td id=\"T_5227378c_9730_11ea_a45c_820d4f6a4a00row8_col0\" class=\"data row8 col0\" >0.720000</td>\n",
       "                        <td id=\"T_5227378c_9730_11ea_a45c_820d4f6a4a00row8_col1\" class=\"data row8 col1\" >0.240000</td>\n",
       "                        <td id=\"T_5227378c_9730_11ea_a45c_820d4f6a4a00row8_col2\" class=\"data row8 col2\" >0.580000</td>\n",
       "                        <td id=\"T_5227378c_9730_11ea_a45c_820d4f6a4a00row8_col3\" class=\"data row8 col3\" >0.000000</td>\n",
       "                        <td id=\"T_5227378c_9730_11ea_a45c_820d4f6a4a00row8_col4\" class=\"data row8 col4\" >0.000000</td>\n",
       "            </tr>\n",
       "            <tr>\n",
       "                                <td id=\"T_5227378c_9730_11ea_a45c_820d4f6a4a00row9_col0\" class=\"data row9 col0\" >0.780000</td>\n",
       "                        <td id=\"T_5227378c_9730_11ea_a45c_820d4f6a4a00row9_col1\" class=\"data row9 col1\" >0.310000</td>\n",
       "                        <td id=\"T_5227378c_9730_11ea_a45c_820d4f6a4a00row9_col2\" class=\"data row9 col2\" >0.670000</td>\n",
       "                        <td id=\"T_5227378c_9730_11ea_a45c_820d4f6a4a00row9_col3\" class=\"data row9 col3\" >0.010000</td>\n",
       "                        <td id=\"T_5227378c_9730_11ea_a45c_820d4f6a4a00row9_col4\" class=\"data row9 col4\" >0.000000</td>\n",
       "            </tr>\n",
       "            <tr>\n",
       "                                <td id=\"T_5227378c_9730_11ea_a45c_820d4f6a4a00row10_col0\" class=\"data row10 col0\" >0.840000</td>\n",
       "                        <td id=\"T_5227378c_9730_11ea_a45c_820d4f6a4a00row10_col1\" class=\"data row10 col1\" >0.350000</td>\n",
       "                        <td id=\"T_5227378c_9730_11ea_a45c_820d4f6a4a00row10_col2\" class=\"data row10 col2\" >0.760000</td>\n",
       "                        <td id=\"T_5227378c_9730_11ea_a45c_820d4f6a4a00row10_col3\" class=\"data row10 col3\" >0.000000</td>\n",
       "                        <td id=\"T_5227378c_9730_11ea_a45c_820d4f6a4a00row10_col4\" class=\"data row10 col4\" >0.000000</td>\n",
       "            </tr>\n",
       "            <tr>\n",
       "                                <td id=\"T_5227378c_9730_11ea_a45c_820d4f6a4a00row11_col0\" class=\"data row11 col0\" >0.880000</td>\n",
       "                        <td id=\"T_5227378c_9730_11ea_a45c_820d4f6a4a00row11_col1\" class=\"data row11 col1\" >0.360000</td>\n",
       "                        <td id=\"T_5227378c_9730_11ea_a45c_820d4f6a4a00row11_col2\" class=\"data row11 col2\" >0.820000</td>\n",
       "                        <td id=\"T_5227378c_9730_11ea_a45c_820d4f6a4a00row11_col3\" class=\"data row11 col3\" >0.000000</td>\n",
       "                        <td id=\"T_5227378c_9730_11ea_a45c_820d4f6a4a00row11_col4\" class=\"data row11 col4\" >0.000000</td>\n",
       "            </tr>\n",
       "            <tr>\n",
       "                                <td id=\"T_5227378c_9730_11ea_a45c_820d4f6a4a00row12_col0\" class=\"data row12 col0\" >0.920000</td>\n",
       "                        <td id=\"T_5227378c_9730_11ea_a45c_820d4f6a4a00row12_col1\" class=\"data row12 col1\" >0.400000</td>\n",
       "                        <td id=\"T_5227378c_9730_11ea_a45c_820d4f6a4a00row12_col2\" class=\"data row12 col2\" >0.880000</td>\n",
       "                        <td id=\"T_5227378c_9730_11ea_a45c_820d4f6a4a00row12_col3\" class=\"data row12 col3\" >0.010000</td>\n",
       "                        <td id=\"T_5227378c_9730_11ea_a45c_820d4f6a4a00row12_col4\" class=\"data row12 col4\" >0.000000</td>\n",
       "            </tr>\n",
       "    </tbody></table>"
      ],
      "text/plain": [
       "<pandas.io.formats.style.Styler at 0x12eebef28>"
      ]
     },
     "execution_count": 29,
     "metadata": {},
     "output_type": "execute_result"
    }
   ],
   "source": [
    "(results_df\n",
    " .style\n",
    " .hide_index()\n",
    " .bar(color='lightblue', vmin=0, subset=['wasserstein_X'], align='zero')\n",
    " .bar(color='lightblue', vmin=0, subset=['wasserstein_y'], align='zero')\n",
    " .bar(color='red', vmin=0, vmax=0.1,subset=['outlier_percent_X'], align='zero')\n",
    " .bar(color='red', vmin=0, vmax=0.1,subset=['outlier_percent_y'], align='zero')\n",
    " .set_caption('Performance Monitoring'))"
   ]
  },
  {
   "cell_type": "markdown",
   "metadata": {
    "slideshow": {
     "slide_type": "notes"
    }
   },
   "source": [
    "In a typical deployment scenario we would not have access to the true labels so we would not be able to calculate the wasserstein distance between known and predicted targets (shown in the 3rd column).  We would however be able to check for outliers on the targets.  We see that the distance metrics do a very good job detecting the drift in target distribution, the test that is the most important is of course most important at the level of X, because these data will be available.  This example has an additional benefit in that it demonstrates a way to guide the setting of thresholds for throwing flags.  We used bootstrapped data so in reality any outliers that were detected were part of the normal distributional variance.  This implies that a strict threshold could be put at 5% and a more permissive threshold would be closer to 10%.  One final note to keep in mind is that when dealing with data that have many features it is a reasonable practice to reduce the dimensionality of the feature space with PCA before calculating distance and detecting outliers.  "
   ]
  },
  {
   "cell_type": "code",
   "execution_count": null,
   "metadata": {
    "slideshow": {
     "slide_type": "skip"
    }
   },
   "outputs": [],
   "source": []
  }
 ],
 "metadata": {
  "celltoolbar": "Slideshow",
  "kernelspec": {
   "display_name": "Python 3",
   "language": "python",
   "name": "python3"
  },
  "language_info": {
   "codemirror_mode": {
    "name": "ipython",
    "version": 3
   },
   "file_extension": ".py",
   "mimetype": "text/x-python",
   "name": "python",
   "nbconvert_exporter": "python",
   "pygments_lexer": "ipython3",
   "version": "3.6.10"
  },
  "rise": {
   "autolaunch": true,
   "enable_chalkboard": true,
   "theme": "sky"
  }
 },
 "nbformat": 4,
 "nbformat_minor": 2
}
